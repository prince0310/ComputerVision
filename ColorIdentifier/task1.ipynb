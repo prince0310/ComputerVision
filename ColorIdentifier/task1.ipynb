{
 "cells": [
  {
   "cell_type": "markdown",
   "id": "48f1b0dd",
   "metadata": {},
   "source": [
    "# PRINCE KUMAR\n"
   ]
  },
  {
   "cell_type": "markdown",
   "id": "18387caa",
   "metadata": {},
   "source": [
    "## Color detection using python & opencv"
   ]
  },
  {
   "cell_type": "code",
   "execution_count": 1,
   "id": "740b101d",
   "metadata": {},
   "outputs": [],
   "source": [
    "#importing the useful library \n",
    "import pandas as pd\n",
    "import cv2\n",
    "import numpy as np\n"
   ]
  },
  {
   "cell_type": "markdown",
   "id": "cbaacb2c",
   "metadata": {},
   "source": [
    "### loading the color_picker to detect colors in it"
   ]
  },
  {
   "cell_type": "code",
   "execution_count": 2,
   "id": "9bd8f663",
   "metadata": {},
   "outputs": [],
   "source": [
    "# Reading image & resizing of image using cv2\n",
    "img_path = \"color_picker.jpg\"\n",
    "img = cv2.imread(img_path)\n",
    "img = cv2.resize(img,(700,500))\n"
   ]
  },
  {
   "cell_type": "markdown",
   "id": "c91a5638",
   "metadata": {},
   "source": [
    "### declaring global variable (are used throughout the code)"
   ]
  },
  {
   "cell_type": "code",
   "execution_count": 3,
   "id": "d3e5f88b",
   "metadata": {},
   "outputs": [],
   "source": [
    "clicked  = False\n",
    "r = g = b = x_pos = y_pos = 0                                   #initialize the color and position variable"
   ]
  },
  {
   "cell_type": "markdown",
   "id": "a7b06c23",
   "metadata": {},
   "source": [
    "### Reading csv file with pandas and giving names to each column"
   ]
  },
  {
   "cell_type": "code",
   "execution_count": 4,
   "id": "efbfcfaf",
   "metadata": {},
   "outputs": [],
   "source": [
    "index = [\"color\" , \"color_name\" , \"hex\" , \"R\" , \"G\" ,  \"B\"]\n",
    "csv = pd.read_csv('colors.csv' , names = index , header = None)"
   ]
  },
  {
   "cell_type": "markdown",
   "id": "13a13495",
   "metadata": {},
   "source": [
    "### function to calculate minimum distance from all colors and get the most matching color"
   ]
  },
  {
   "cell_type": "code",
   "execution_count": 5,
   "id": "0c4324b8",
   "metadata": {},
   "outputs": [],
   "source": [
    "def get_color_name(R,G,B):\n",
    "    minimum = 10000\n",
    "    for i in range (len(csv)):\n",
    "        dim = abs(R-int(csv.loc[i,\"R\"])) + abs(G-int(csv.loc[i,\"G\"])) + abs(B-int(csv.loc[i,\"B\"]))\n",
    "        if dim <= minimum :\n",
    "            minimum = dim \n",
    "            color_name = csv.loc[i,\"color_name\"]\n",
    "    return color_name\n",
    "    "
   ]
  },
  {
   "cell_type": "markdown",
   "id": "71d568be",
   "metadata": {},
   "source": [
    "### function to get x,y cordinate of mouse click"
   ]
  },
  {
   "cell_type": "code",
   "execution_count": 6,
   "id": "bf1a3401",
   "metadata": {},
   "outputs": [],
   "source": [
    "def draw_function(event, x, y, flags, param):\n",
    "    if event == cv2.EVENT_RBUTTONDBLCLK:\n",
    "        global b, g , r , x_pos ,y_pos , clicked\n",
    "        clicked = True\n",
    "        x_pos = x\n",
    "        y_pos = y\n",
    "        b , g , r = img[y,x]\n",
    "        b = int(b)\n",
    "        g = int(g)\n",
    "        r = int(r)\n",
    "cv2.namedWindow('image')\n",
    "cv2.setMouseCallback('image',draw_function)"
   ]
  },
  {
   "cell_type": "markdown",
   "id": "77a29e5d",
   "metadata": {},
   "source": [
    "### loop to iterate over the input image and color_detection"
   ]
  },
  {
   "cell_type": "code",
   "execution_count": null,
   "id": "bcc1711c",
   "metadata": {},
   "outputs": [],
   "source": [
    "while(1):\n",
    "    \n",
    "    \n",
    "    cv2.imshow(\"image\",img)\n",
    "    if clicked:\n",
    "        \n",
    "        \n",
    "        #cv2.rectangle(image.startpoint,endpoint, color,thickness) -1 thickness fills rectangle entirely\n",
    "        cv2.rectangle(img,(20,20),(600,60),(b,g,r),-1)\n",
    "        \n",
    "        #creating text string to display  ( color name and RGB value )\n",
    "        text = get_color_name(r, g , b) + \"R=\" + str(r) + \"G=\" + str(g) + \"B=\" + str(b)\n",
    "        \n",
    "        #cv2.putText(image, text, start, front(0-7), fontScale, color,thickness, lineType, (optional bottomLeft bool))\n",
    "        cv2.putText(img, text , (50,50), 2, 0.8, (255, 255, 255), 2 , cv2.LINE_AA)\n",
    "        \n",
    "        \n",
    "        #for very light colours we will display text in block colour\n",
    "        if r + g + b >= 600:\n",
    "            cv2.putText(img, text, (50,50), 2, 0.8, (0, 0, 0), 2 , cv2.LINE_AA)\n",
    "        clicked = False\n",
    "        \n",
    "        #break the loop when user hits 'esc' key\n",
    "    if cv2.waitKey(20) & 0xFF == 27:\n",
    "        break\n",
    "cv2.destroyAllWindows()\n",
    "            \n",
    "        \n",
    "    "
   ]
  },
  {
   "cell_type": "code",
   "execution_count": null,
   "id": "c82e2e8c",
   "metadata": {},
   "outputs": [],
   "source": []
  }
 ],
 "metadata": {
  "kernelspec": {
   "display_name": "Python 3",
   "language": "python",
   "name": "python3"
  },
  "language_info": {
   "codemirror_mode": {
    "name": "ipython",
    "version": 3
   },
   "file_extension": ".py",
   "mimetype": "text/x-python",
   "name": "python",
   "nbconvert_exporter": "python",
   "pygments_lexer": "ipython3",
   "version": "3.8.8"
  }
 },
 "nbformat": 4,
 "nbformat_minor": 5
}
